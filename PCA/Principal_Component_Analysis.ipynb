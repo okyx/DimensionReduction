{
  "nbformat": 4,
  "nbformat_minor": 0,
  "metadata": {
    "colab": {
      "name": "Principal Component Analysis.ipynb",
      "provenance": []
    },
    "kernelspec": {
      "name": "python3",
      "display_name": "Python 3"
    },
    "language_info": {
      "name": "python"
    }
  },
  "cells": [
    {
      "cell_type": "code",
      "execution_count": null,
      "metadata": {
        "id": "GOSn_jPlqRjF"
      },
      "outputs": [],
      "source": [
        "import pandas as pd\n",
        "import numpy as np"
      ]
    },
    {
      "cell_type": "code",
      "source": [
        "np.set_printoptions(precision=4)"
      ],
      "metadata": {
        "id": "1N6uwsa1njt2"
      },
      "execution_count": null,
      "outputs": []
    },
    {
      "cell_type": "code",
      "source": [
        "data = pd.read_csv('https://raw.githubusercontent.com/okyx/clustering/master/Iris.csv')"
      ],
      "metadata": {
        "id": "9-_czep4qitd"
      },
      "execution_count": null,
      "outputs": []
    },
    {
      "cell_type": "code",
      "source": [
        "data.columns=['Id',0,1,2,3,'Species']"
      ],
      "metadata": {
        "id": "xwS6DecIqo8y"
      },
      "execution_count": null,
      "outputs": []
    },
    {
      "cell_type": "code",
      "source": [
        "data"
      ],
      "metadata": {
        "colab": {
          "base_uri": "https://localhost:8080/",
          "height": 424
        },
        "id": "RvbRDbSarABX",
        "outputId": "e706afdd-689f-49f7-c676-b79ff006b043"
      },
      "execution_count": null,
      "outputs": [
        {
          "output_type": "execute_result",
          "data": {
            "text/plain": [
              "      Id    0    1    2    3         Species\n",
              "0      1  5.1  3.5  1.4  0.2     Iris-setosa\n",
              "1      2  4.9  3.0  1.4  0.2     Iris-setosa\n",
              "2      3  4.7  3.2  1.3  0.2     Iris-setosa\n",
              "3      4  4.6  3.1  1.5  0.2     Iris-setosa\n",
              "4      5  5.0  3.6  1.4  0.2     Iris-setosa\n",
              "..   ...  ...  ...  ...  ...             ...\n",
              "145  146  6.7  3.0  5.2  2.3  Iris-virginica\n",
              "146  147  6.3  2.5  5.0  1.9  Iris-virginica\n",
              "147  148  6.5  3.0  5.2  2.0  Iris-virginica\n",
              "148  149  6.2  3.4  5.4  2.3  Iris-virginica\n",
              "149  150  5.9  3.0  5.1  1.8  Iris-virginica\n",
              "\n",
              "[150 rows x 6 columns]"
            ],
            "text/html": [
              "\n",
              "  <div id=\"df-a79b237b-403f-4c70-b0f1-006ee4d080c6\">\n",
              "    <div class=\"colab-df-container\">\n",
              "      <div>\n",
              "<style scoped>\n",
              "    .dataframe tbody tr th:only-of-type {\n",
              "        vertical-align: middle;\n",
              "    }\n",
              "\n",
              "    .dataframe tbody tr th {\n",
              "        vertical-align: top;\n",
              "    }\n",
              "\n",
              "    .dataframe thead th {\n",
              "        text-align: right;\n",
              "    }\n",
              "</style>\n",
              "<table border=\"1\" class=\"dataframe\">\n",
              "  <thead>\n",
              "    <tr style=\"text-align: right;\">\n",
              "      <th></th>\n",
              "      <th>Id</th>\n",
              "      <th>0</th>\n",
              "      <th>1</th>\n",
              "      <th>2</th>\n",
              "      <th>3</th>\n",
              "      <th>Species</th>\n",
              "    </tr>\n",
              "  </thead>\n",
              "  <tbody>\n",
              "    <tr>\n",
              "      <th>0</th>\n",
              "      <td>1</td>\n",
              "      <td>5.1</td>\n",
              "      <td>3.5</td>\n",
              "      <td>1.4</td>\n",
              "      <td>0.2</td>\n",
              "      <td>Iris-setosa</td>\n",
              "    </tr>\n",
              "    <tr>\n",
              "      <th>1</th>\n",
              "      <td>2</td>\n",
              "      <td>4.9</td>\n",
              "      <td>3.0</td>\n",
              "      <td>1.4</td>\n",
              "      <td>0.2</td>\n",
              "      <td>Iris-setosa</td>\n",
              "    </tr>\n",
              "    <tr>\n",
              "      <th>2</th>\n",
              "      <td>3</td>\n",
              "      <td>4.7</td>\n",
              "      <td>3.2</td>\n",
              "      <td>1.3</td>\n",
              "      <td>0.2</td>\n",
              "      <td>Iris-setosa</td>\n",
              "    </tr>\n",
              "    <tr>\n",
              "      <th>3</th>\n",
              "      <td>4</td>\n",
              "      <td>4.6</td>\n",
              "      <td>3.1</td>\n",
              "      <td>1.5</td>\n",
              "      <td>0.2</td>\n",
              "      <td>Iris-setosa</td>\n",
              "    </tr>\n",
              "    <tr>\n",
              "      <th>4</th>\n",
              "      <td>5</td>\n",
              "      <td>5.0</td>\n",
              "      <td>3.6</td>\n",
              "      <td>1.4</td>\n",
              "      <td>0.2</td>\n",
              "      <td>Iris-setosa</td>\n",
              "    </tr>\n",
              "    <tr>\n",
              "      <th>...</th>\n",
              "      <td>...</td>\n",
              "      <td>...</td>\n",
              "      <td>...</td>\n",
              "      <td>...</td>\n",
              "      <td>...</td>\n",
              "      <td>...</td>\n",
              "    </tr>\n",
              "    <tr>\n",
              "      <th>145</th>\n",
              "      <td>146</td>\n",
              "      <td>6.7</td>\n",
              "      <td>3.0</td>\n",
              "      <td>5.2</td>\n",
              "      <td>2.3</td>\n",
              "      <td>Iris-virginica</td>\n",
              "    </tr>\n",
              "    <tr>\n",
              "      <th>146</th>\n",
              "      <td>147</td>\n",
              "      <td>6.3</td>\n",
              "      <td>2.5</td>\n",
              "      <td>5.0</td>\n",
              "      <td>1.9</td>\n",
              "      <td>Iris-virginica</td>\n",
              "    </tr>\n",
              "    <tr>\n",
              "      <th>147</th>\n",
              "      <td>148</td>\n",
              "      <td>6.5</td>\n",
              "      <td>3.0</td>\n",
              "      <td>5.2</td>\n",
              "      <td>2.0</td>\n",
              "      <td>Iris-virginica</td>\n",
              "    </tr>\n",
              "    <tr>\n",
              "      <th>148</th>\n",
              "      <td>149</td>\n",
              "      <td>6.2</td>\n",
              "      <td>3.4</td>\n",
              "      <td>5.4</td>\n",
              "      <td>2.3</td>\n",
              "      <td>Iris-virginica</td>\n",
              "    </tr>\n",
              "    <tr>\n",
              "      <th>149</th>\n",
              "      <td>150</td>\n",
              "      <td>5.9</td>\n",
              "      <td>3.0</td>\n",
              "      <td>5.1</td>\n",
              "      <td>1.8</td>\n",
              "      <td>Iris-virginica</td>\n",
              "    </tr>\n",
              "  </tbody>\n",
              "</table>\n",
              "<p>150 rows × 6 columns</p>\n",
              "</div>\n",
              "      <button class=\"colab-df-convert\" onclick=\"convertToInteractive('df-a79b237b-403f-4c70-b0f1-006ee4d080c6')\"\n",
              "              title=\"Convert this dataframe to an interactive table.\"\n",
              "              style=\"display:none;\">\n",
              "        \n",
              "  <svg xmlns=\"http://www.w3.org/2000/svg\" height=\"24px\"viewBox=\"0 0 24 24\"\n",
              "       width=\"24px\">\n",
              "    <path d=\"M0 0h24v24H0V0z\" fill=\"none\"/>\n",
              "    <path d=\"M18.56 5.44l.94 2.06.94-2.06 2.06-.94-2.06-.94-.94-2.06-.94 2.06-2.06.94zm-11 1L8.5 8.5l.94-2.06 2.06-.94-2.06-.94L8.5 2.5l-.94 2.06-2.06.94zm10 10l.94 2.06.94-2.06 2.06-.94-2.06-.94-.94-2.06-.94 2.06-2.06.94z\"/><path d=\"M17.41 7.96l-1.37-1.37c-.4-.4-.92-.59-1.43-.59-.52 0-1.04.2-1.43.59L10.3 9.45l-7.72 7.72c-.78.78-.78 2.05 0 2.83L4 21.41c.39.39.9.59 1.41.59.51 0 1.02-.2 1.41-.59l7.78-7.78 2.81-2.81c.8-.78.8-2.07 0-2.86zM5.41 20L4 18.59l7.72-7.72 1.47 1.35L5.41 20z\"/>\n",
              "  </svg>\n",
              "      </button>\n",
              "      \n",
              "  <style>\n",
              "    .colab-df-container {\n",
              "      display:flex;\n",
              "      flex-wrap:wrap;\n",
              "      gap: 12px;\n",
              "    }\n",
              "\n",
              "    .colab-df-convert {\n",
              "      background-color: #E8F0FE;\n",
              "      border: none;\n",
              "      border-radius: 50%;\n",
              "      cursor: pointer;\n",
              "      display: none;\n",
              "      fill: #1967D2;\n",
              "      height: 32px;\n",
              "      padding: 0 0 0 0;\n",
              "      width: 32px;\n",
              "    }\n",
              "\n",
              "    .colab-df-convert:hover {\n",
              "      background-color: #E2EBFA;\n",
              "      box-shadow: 0px 1px 2px rgba(60, 64, 67, 0.3), 0px 1px 3px 1px rgba(60, 64, 67, 0.15);\n",
              "      fill: #174EA6;\n",
              "    }\n",
              "\n",
              "    [theme=dark] .colab-df-convert {\n",
              "      background-color: #3B4455;\n",
              "      fill: #D2E3FC;\n",
              "    }\n",
              "\n",
              "    [theme=dark] .colab-df-convert:hover {\n",
              "      background-color: #434B5C;\n",
              "      box-shadow: 0px 1px 3px 1px rgba(0, 0, 0, 0.15);\n",
              "      filter: drop-shadow(0px 1px 2px rgba(0, 0, 0, 0.3));\n",
              "      fill: #FFFFFF;\n",
              "    }\n",
              "  </style>\n",
              "\n",
              "      <script>\n",
              "        const buttonEl =\n",
              "          document.querySelector('#df-a79b237b-403f-4c70-b0f1-006ee4d080c6 button.colab-df-convert');\n",
              "        buttonEl.style.display =\n",
              "          google.colab.kernel.accessAllowed ? 'block' : 'none';\n",
              "\n",
              "        async function convertToInteractive(key) {\n",
              "          const element = document.querySelector('#df-a79b237b-403f-4c70-b0f1-006ee4d080c6');\n",
              "          const dataTable =\n",
              "            await google.colab.kernel.invokeFunction('convertToInteractive',\n",
              "                                                     [key], {});\n",
              "          if (!dataTable) return;\n",
              "\n",
              "          const docLinkHtml = 'Like what you see? Visit the ' +\n",
              "            '<a target=\"_blank\" href=https://colab.research.google.com/notebooks/data_table.ipynb>data table notebook</a>'\n",
              "            + ' to learn more about interactive tables.';\n",
              "          element.innerHTML = '';\n",
              "          dataTable['output_type'] = 'display_data';\n",
              "          await google.colab.output.renderOutput(dataTable, element);\n",
              "          const docLink = document.createElement('div');\n",
              "          docLink.innerHTML = docLinkHtml;\n",
              "          element.appendChild(docLink);\n",
              "        }\n",
              "      </script>\n",
              "    </div>\n",
              "  </div>\n",
              "  "
            ]
          },
          "metadata": {},
          "execution_count": 86
        }
      ]
    },
    {
      "cell_type": "code",
      "source": [
        "Y = data.pop('Species')\n",
        "X = data[[0,1,2,3]]"
      ],
      "metadata": {
        "id": "ruou-3ItzfG0"
      },
      "execution_count": null,
      "outputs": []
    },
    {
      "cell_type": "code",
      "source": [
        "X"
      ],
      "metadata": {
        "colab": {
          "base_uri": "https://localhost:8080/",
          "height": 424
        },
        "id": "sV0MNaVzzjum",
        "outputId": "8d1b42b0-851f-4357-e6a6-597cc086ad8f"
      },
      "execution_count": null,
      "outputs": [
        {
          "output_type": "execute_result",
          "data": {
            "text/plain": [
              "       0    1    2    3\n",
              "0    5.1  3.5  1.4  0.2\n",
              "1    4.9  3.0  1.4  0.2\n",
              "2    4.7  3.2  1.3  0.2\n",
              "3    4.6  3.1  1.5  0.2\n",
              "4    5.0  3.6  1.4  0.2\n",
              "..   ...  ...  ...  ...\n",
              "145  6.7  3.0  5.2  2.3\n",
              "146  6.3  2.5  5.0  1.9\n",
              "147  6.5  3.0  5.2  2.0\n",
              "148  6.2  3.4  5.4  2.3\n",
              "149  5.9  3.0  5.1  1.8\n",
              "\n",
              "[150 rows x 4 columns]"
            ],
            "text/html": [
              "\n",
              "  <div id=\"df-9081e82d-2d0b-4143-9efd-6329f87ad112\">\n",
              "    <div class=\"colab-df-container\">\n",
              "      <div>\n",
              "<style scoped>\n",
              "    .dataframe tbody tr th:only-of-type {\n",
              "        vertical-align: middle;\n",
              "    }\n",
              "\n",
              "    .dataframe tbody tr th {\n",
              "        vertical-align: top;\n",
              "    }\n",
              "\n",
              "    .dataframe thead th {\n",
              "        text-align: right;\n",
              "    }\n",
              "</style>\n",
              "<table border=\"1\" class=\"dataframe\">\n",
              "  <thead>\n",
              "    <tr style=\"text-align: right;\">\n",
              "      <th></th>\n",
              "      <th>0</th>\n",
              "      <th>1</th>\n",
              "      <th>2</th>\n",
              "      <th>3</th>\n",
              "    </tr>\n",
              "  </thead>\n",
              "  <tbody>\n",
              "    <tr>\n",
              "      <th>0</th>\n",
              "      <td>5.1</td>\n",
              "      <td>3.5</td>\n",
              "      <td>1.4</td>\n",
              "      <td>0.2</td>\n",
              "    </tr>\n",
              "    <tr>\n",
              "      <th>1</th>\n",
              "      <td>4.9</td>\n",
              "      <td>3.0</td>\n",
              "      <td>1.4</td>\n",
              "      <td>0.2</td>\n",
              "    </tr>\n",
              "    <tr>\n",
              "      <th>2</th>\n",
              "      <td>4.7</td>\n",
              "      <td>3.2</td>\n",
              "      <td>1.3</td>\n",
              "      <td>0.2</td>\n",
              "    </tr>\n",
              "    <tr>\n",
              "      <th>3</th>\n",
              "      <td>4.6</td>\n",
              "      <td>3.1</td>\n",
              "      <td>1.5</td>\n",
              "      <td>0.2</td>\n",
              "    </tr>\n",
              "    <tr>\n",
              "      <th>4</th>\n",
              "      <td>5.0</td>\n",
              "      <td>3.6</td>\n",
              "      <td>1.4</td>\n",
              "      <td>0.2</td>\n",
              "    </tr>\n",
              "    <tr>\n",
              "      <th>...</th>\n",
              "      <td>...</td>\n",
              "      <td>...</td>\n",
              "      <td>...</td>\n",
              "      <td>...</td>\n",
              "    </tr>\n",
              "    <tr>\n",
              "      <th>145</th>\n",
              "      <td>6.7</td>\n",
              "      <td>3.0</td>\n",
              "      <td>5.2</td>\n",
              "      <td>2.3</td>\n",
              "    </tr>\n",
              "    <tr>\n",
              "      <th>146</th>\n",
              "      <td>6.3</td>\n",
              "      <td>2.5</td>\n",
              "      <td>5.0</td>\n",
              "      <td>1.9</td>\n",
              "    </tr>\n",
              "    <tr>\n",
              "      <th>147</th>\n",
              "      <td>6.5</td>\n",
              "      <td>3.0</td>\n",
              "      <td>5.2</td>\n",
              "      <td>2.0</td>\n",
              "    </tr>\n",
              "    <tr>\n",
              "      <th>148</th>\n",
              "      <td>6.2</td>\n",
              "      <td>3.4</td>\n",
              "      <td>5.4</td>\n",
              "      <td>2.3</td>\n",
              "    </tr>\n",
              "    <tr>\n",
              "      <th>149</th>\n",
              "      <td>5.9</td>\n",
              "      <td>3.0</td>\n",
              "      <td>5.1</td>\n",
              "      <td>1.8</td>\n",
              "    </tr>\n",
              "  </tbody>\n",
              "</table>\n",
              "<p>150 rows × 4 columns</p>\n",
              "</div>\n",
              "      <button class=\"colab-df-convert\" onclick=\"convertToInteractive('df-9081e82d-2d0b-4143-9efd-6329f87ad112')\"\n",
              "              title=\"Convert this dataframe to an interactive table.\"\n",
              "              style=\"display:none;\">\n",
              "        \n",
              "  <svg xmlns=\"http://www.w3.org/2000/svg\" height=\"24px\"viewBox=\"0 0 24 24\"\n",
              "       width=\"24px\">\n",
              "    <path d=\"M0 0h24v24H0V0z\" fill=\"none\"/>\n",
              "    <path d=\"M18.56 5.44l.94 2.06.94-2.06 2.06-.94-2.06-.94-.94-2.06-.94 2.06-2.06.94zm-11 1L8.5 8.5l.94-2.06 2.06-.94-2.06-.94L8.5 2.5l-.94 2.06-2.06.94zm10 10l.94 2.06.94-2.06 2.06-.94-2.06-.94-.94-2.06-.94 2.06-2.06.94z\"/><path d=\"M17.41 7.96l-1.37-1.37c-.4-.4-.92-.59-1.43-.59-.52 0-1.04.2-1.43.59L10.3 9.45l-7.72 7.72c-.78.78-.78 2.05 0 2.83L4 21.41c.39.39.9.59 1.41.59.51 0 1.02-.2 1.41-.59l7.78-7.78 2.81-2.81c.8-.78.8-2.07 0-2.86zM5.41 20L4 18.59l7.72-7.72 1.47 1.35L5.41 20z\"/>\n",
              "  </svg>\n",
              "      </button>\n",
              "      \n",
              "  <style>\n",
              "    .colab-df-container {\n",
              "      display:flex;\n",
              "      flex-wrap:wrap;\n",
              "      gap: 12px;\n",
              "    }\n",
              "\n",
              "    .colab-df-convert {\n",
              "      background-color: #E8F0FE;\n",
              "      border: none;\n",
              "      border-radius: 50%;\n",
              "      cursor: pointer;\n",
              "      display: none;\n",
              "      fill: #1967D2;\n",
              "      height: 32px;\n",
              "      padding: 0 0 0 0;\n",
              "      width: 32px;\n",
              "    }\n",
              "\n",
              "    .colab-df-convert:hover {\n",
              "      background-color: #E2EBFA;\n",
              "      box-shadow: 0px 1px 2px rgba(60, 64, 67, 0.3), 0px 1px 3px 1px rgba(60, 64, 67, 0.15);\n",
              "      fill: #174EA6;\n",
              "    }\n",
              "\n",
              "    [theme=dark] .colab-df-convert {\n",
              "      background-color: #3B4455;\n",
              "      fill: #D2E3FC;\n",
              "    }\n",
              "\n",
              "    [theme=dark] .colab-df-convert:hover {\n",
              "      background-color: #434B5C;\n",
              "      box-shadow: 0px 1px 3px 1px rgba(0, 0, 0, 0.15);\n",
              "      filter: drop-shadow(0px 1px 2px rgba(0, 0, 0, 0.3));\n",
              "      fill: #FFFFFF;\n",
              "    }\n",
              "  </style>\n",
              "\n",
              "      <script>\n",
              "        const buttonEl =\n",
              "          document.querySelector('#df-9081e82d-2d0b-4143-9efd-6329f87ad112 button.colab-df-convert');\n",
              "        buttonEl.style.display =\n",
              "          google.colab.kernel.accessAllowed ? 'block' : 'none';\n",
              "\n",
              "        async function convertToInteractive(key) {\n",
              "          const element = document.querySelector('#df-9081e82d-2d0b-4143-9efd-6329f87ad112');\n",
              "          const dataTable =\n",
              "            await google.colab.kernel.invokeFunction('convertToInteractive',\n",
              "                                                     [key], {});\n",
              "          if (!dataTable) return;\n",
              "\n",
              "          const docLinkHtml = 'Like what you see? Visit the ' +\n",
              "            '<a target=\"_blank\" href=https://colab.research.google.com/notebooks/data_table.ipynb>data table notebook</a>'\n",
              "            + ' to learn more about interactive tables.';\n",
              "          element.innerHTML = '';\n",
              "          dataTable['output_type'] = 'display_data';\n",
              "          await google.colab.output.renderOutput(dataTable, element);\n",
              "          const docLink = document.createElement('div');\n",
              "          docLink.innerHTML = docLinkHtml;\n",
              "          element.appendChild(docLink);\n",
              "        }\n",
              "      </script>\n",
              "    </div>\n",
              "  </div>\n",
              "  "
            ]
          },
          "metadata": {},
          "execution_count": 88
        }
      ]
    },
    {
      "cell_type": "markdown",
      "source": [
        "normalisasi"
      ],
      "metadata": {
        "id": "8UdhEFVSznLt"
      }
    },
    {
      "cell_type": "code",
      "source": [
        "X = (X-np.mean(X,axis=0))/np.std(X,axis=0)"
      ],
      "metadata": {
        "id": "mZ3wHVZBzmep"
      },
      "execution_count": null,
      "outputs": []
    },
    {
      "cell_type": "code",
      "source": [
        "X"
      ],
      "metadata": {
        "colab": {
          "base_uri": "https://localhost:8080/",
          "height": 424
        },
        "id": "9BECgQ1zzwLd",
        "outputId": "e61b128f-16d9-4d0e-9cd8-70525c74567f"
      },
      "execution_count": null,
      "outputs": [
        {
          "output_type": "execute_result",
          "data": {
            "text/plain": [
              "            0         1         2         3\n",
              "0   -0.900681  1.032057 -1.341272 -1.312977\n",
              "1   -1.143017 -0.124958 -1.341272 -1.312977\n",
              "2   -1.385353  0.337848 -1.398138 -1.312977\n",
              "3   -1.506521  0.106445 -1.284407 -1.312977\n",
              "4   -1.021849  1.263460 -1.341272 -1.312977\n",
              "..        ...       ...       ...       ...\n",
              "145  1.038005 -0.124958  0.819624  1.447956\n",
              "146  0.553333 -1.281972  0.705893  0.922064\n",
              "147  0.795669 -0.124958  0.819624  1.053537\n",
              "148  0.432165  0.800654  0.933356  1.447956\n",
              "149  0.068662 -0.124958  0.762759  0.790591\n",
              "\n",
              "[150 rows x 4 columns]"
            ],
            "text/html": [
              "\n",
              "  <div id=\"df-269a7aba-c474-4485-89dc-ed276b8d3e9d\">\n",
              "    <div class=\"colab-df-container\">\n",
              "      <div>\n",
              "<style scoped>\n",
              "    .dataframe tbody tr th:only-of-type {\n",
              "        vertical-align: middle;\n",
              "    }\n",
              "\n",
              "    .dataframe tbody tr th {\n",
              "        vertical-align: top;\n",
              "    }\n",
              "\n",
              "    .dataframe thead th {\n",
              "        text-align: right;\n",
              "    }\n",
              "</style>\n",
              "<table border=\"1\" class=\"dataframe\">\n",
              "  <thead>\n",
              "    <tr style=\"text-align: right;\">\n",
              "      <th></th>\n",
              "      <th>0</th>\n",
              "      <th>1</th>\n",
              "      <th>2</th>\n",
              "      <th>3</th>\n",
              "    </tr>\n",
              "  </thead>\n",
              "  <tbody>\n",
              "    <tr>\n",
              "      <th>0</th>\n",
              "      <td>-0.900681</td>\n",
              "      <td>1.032057</td>\n",
              "      <td>-1.341272</td>\n",
              "      <td>-1.312977</td>\n",
              "    </tr>\n",
              "    <tr>\n",
              "      <th>1</th>\n",
              "      <td>-1.143017</td>\n",
              "      <td>-0.124958</td>\n",
              "      <td>-1.341272</td>\n",
              "      <td>-1.312977</td>\n",
              "    </tr>\n",
              "    <tr>\n",
              "      <th>2</th>\n",
              "      <td>-1.385353</td>\n",
              "      <td>0.337848</td>\n",
              "      <td>-1.398138</td>\n",
              "      <td>-1.312977</td>\n",
              "    </tr>\n",
              "    <tr>\n",
              "      <th>3</th>\n",
              "      <td>-1.506521</td>\n",
              "      <td>0.106445</td>\n",
              "      <td>-1.284407</td>\n",
              "      <td>-1.312977</td>\n",
              "    </tr>\n",
              "    <tr>\n",
              "      <th>4</th>\n",
              "      <td>-1.021849</td>\n",
              "      <td>1.263460</td>\n",
              "      <td>-1.341272</td>\n",
              "      <td>-1.312977</td>\n",
              "    </tr>\n",
              "    <tr>\n",
              "      <th>...</th>\n",
              "      <td>...</td>\n",
              "      <td>...</td>\n",
              "      <td>...</td>\n",
              "      <td>...</td>\n",
              "    </tr>\n",
              "    <tr>\n",
              "      <th>145</th>\n",
              "      <td>1.038005</td>\n",
              "      <td>-0.124958</td>\n",
              "      <td>0.819624</td>\n",
              "      <td>1.447956</td>\n",
              "    </tr>\n",
              "    <tr>\n",
              "      <th>146</th>\n",
              "      <td>0.553333</td>\n",
              "      <td>-1.281972</td>\n",
              "      <td>0.705893</td>\n",
              "      <td>0.922064</td>\n",
              "    </tr>\n",
              "    <tr>\n",
              "      <th>147</th>\n",
              "      <td>0.795669</td>\n",
              "      <td>-0.124958</td>\n",
              "      <td>0.819624</td>\n",
              "      <td>1.053537</td>\n",
              "    </tr>\n",
              "    <tr>\n",
              "      <th>148</th>\n",
              "      <td>0.432165</td>\n",
              "      <td>0.800654</td>\n",
              "      <td>0.933356</td>\n",
              "      <td>1.447956</td>\n",
              "    </tr>\n",
              "    <tr>\n",
              "      <th>149</th>\n",
              "      <td>0.068662</td>\n",
              "      <td>-0.124958</td>\n",
              "      <td>0.762759</td>\n",
              "      <td>0.790591</td>\n",
              "    </tr>\n",
              "  </tbody>\n",
              "</table>\n",
              "<p>150 rows × 4 columns</p>\n",
              "</div>\n",
              "      <button class=\"colab-df-convert\" onclick=\"convertToInteractive('df-269a7aba-c474-4485-89dc-ed276b8d3e9d')\"\n",
              "              title=\"Convert this dataframe to an interactive table.\"\n",
              "              style=\"display:none;\">\n",
              "        \n",
              "  <svg xmlns=\"http://www.w3.org/2000/svg\" height=\"24px\"viewBox=\"0 0 24 24\"\n",
              "       width=\"24px\">\n",
              "    <path d=\"M0 0h24v24H0V0z\" fill=\"none\"/>\n",
              "    <path d=\"M18.56 5.44l.94 2.06.94-2.06 2.06-.94-2.06-.94-.94-2.06-.94 2.06-2.06.94zm-11 1L8.5 8.5l.94-2.06 2.06-.94-2.06-.94L8.5 2.5l-.94 2.06-2.06.94zm10 10l.94 2.06.94-2.06 2.06-.94-2.06-.94-.94-2.06-.94 2.06-2.06.94z\"/><path d=\"M17.41 7.96l-1.37-1.37c-.4-.4-.92-.59-1.43-.59-.52 0-1.04.2-1.43.59L10.3 9.45l-7.72 7.72c-.78.78-.78 2.05 0 2.83L4 21.41c.39.39.9.59 1.41.59.51 0 1.02-.2 1.41-.59l7.78-7.78 2.81-2.81c.8-.78.8-2.07 0-2.86zM5.41 20L4 18.59l7.72-7.72 1.47 1.35L5.41 20z\"/>\n",
              "  </svg>\n",
              "      </button>\n",
              "      \n",
              "  <style>\n",
              "    .colab-df-container {\n",
              "      display:flex;\n",
              "      flex-wrap:wrap;\n",
              "      gap: 12px;\n",
              "    }\n",
              "\n",
              "    .colab-df-convert {\n",
              "      background-color: #E8F0FE;\n",
              "      border: none;\n",
              "      border-radius: 50%;\n",
              "      cursor: pointer;\n",
              "      display: none;\n",
              "      fill: #1967D2;\n",
              "      height: 32px;\n",
              "      padding: 0 0 0 0;\n",
              "      width: 32px;\n",
              "    }\n",
              "\n",
              "    .colab-df-convert:hover {\n",
              "      background-color: #E2EBFA;\n",
              "      box-shadow: 0px 1px 2px rgba(60, 64, 67, 0.3), 0px 1px 3px 1px rgba(60, 64, 67, 0.15);\n",
              "      fill: #174EA6;\n",
              "    }\n",
              "\n",
              "    [theme=dark] .colab-df-convert {\n",
              "      background-color: #3B4455;\n",
              "      fill: #D2E3FC;\n",
              "    }\n",
              "\n",
              "    [theme=dark] .colab-df-convert:hover {\n",
              "      background-color: #434B5C;\n",
              "      box-shadow: 0px 1px 3px 1px rgba(0, 0, 0, 0.15);\n",
              "      filter: drop-shadow(0px 1px 2px rgba(0, 0, 0, 0.3));\n",
              "      fill: #FFFFFF;\n",
              "    }\n",
              "  </style>\n",
              "\n",
              "      <script>\n",
              "        const buttonEl =\n",
              "          document.querySelector('#df-269a7aba-c474-4485-89dc-ed276b8d3e9d button.colab-df-convert');\n",
              "        buttonEl.style.display =\n",
              "          google.colab.kernel.accessAllowed ? 'block' : 'none';\n",
              "\n",
              "        async function convertToInteractive(key) {\n",
              "          const element = document.querySelector('#df-269a7aba-c474-4485-89dc-ed276b8d3e9d');\n",
              "          const dataTable =\n",
              "            await google.colab.kernel.invokeFunction('convertToInteractive',\n",
              "                                                     [key], {});\n",
              "          if (!dataTable) return;\n",
              "\n",
              "          const docLinkHtml = 'Like what you see? Visit the ' +\n",
              "            '<a target=\"_blank\" href=https://colab.research.google.com/notebooks/data_table.ipynb>data table notebook</a>'\n",
              "            + ' to learn more about interactive tables.';\n",
              "          element.innerHTML = '';\n",
              "          dataTable['output_type'] = 'display_data';\n",
              "          await google.colab.output.renderOutput(dataTable, element);\n",
              "          const docLink = document.createElement('div');\n",
              "          docLink.innerHTML = docLinkHtml;\n",
              "          element.appendChild(docLink);\n",
              "        }\n",
              "      </script>\n",
              "    </div>\n",
              "  </div>\n",
              "  "
            ]
          },
          "metadata": {},
          "execution_count": 90
        }
      ]
    },
    {
      "cell_type": "markdown",
      "source": [
        "compute cov"
      ],
      "metadata": {
        "id": "XbD6aZxAz1t1"
      }
    },
    {
      "cell_type": "code",
      "source": [
        "S = (1/X.shape[0]) * np.dot(X.T,X)"
      ],
      "metadata": {
        "id": "JiV-XbX40BLF"
      },
      "execution_count": null,
      "outputs": []
    },
    {
      "cell_type": "markdown",
      "source": [
        "compute eigen"
      ],
      "metadata": {
        "id": "Psdu3rI00Lfd"
      }
    },
    {
      "cell_type": "code",
      "source": [
        "eigval , eigvec = np.linalg.eig(S)"
      ],
      "metadata": {
        "id": "t3wZmlvN0MTA"
      },
      "execution_count": null,
      "outputs": []
    },
    {
      "cell_type": "code",
      "source": [
        "sort_indices = np.argsort(eigval)[::-1]"
      ],
      "metadata": {
        "id": "_PBKqs120vGP"
      },
      "execution_count": null,
      "outputs": []
    },
    {
      "cell_type": "code",
      "source": [
        "eigvals = eigval[sort_indices]\n",
        "eigvec = eigvec[:,sort_indices]"
      ],
      "metadata": {
        "id": "b0Apov2x0ysK"
      },
      "execution_count": null,
      "outputs": []
    },
    {
      "cell_type": "code",
      "source": [
        "num_component=2\n",
        "component = eigvec[:,:num_component]"
      ],
      "metadata": {
        "id": "H7rhI0vE08P6"
      },
      "execution_count": null,
      "outputs": []
    },
    {
      "cell_type": "markdown",
      "source": [
        "compute transformation"
      ],
      "metadata": {
        "id": "pUrkHxYU1Iz-"
      }
    },
    {
      "cell_type": "code",
      "source": [
        "transform = np.dot(X,component)"
      ],
      "metadata": {
        "id": "S4vjhaPu1IWD"
      },
      "execution_count": null,
      "outputs": []
    },
    {
      "cell_type": "code",
      "source": [
        "transform"
      ],
      "metadata": {
        "colab": {
          "base_uri": "https://localhost:8080/"
        },
        "id": "4ziPaQ3q1Qn_",
        "outputId": "e31b24c0-86d7-4ffa-d885-d421c3c03edc"
      },
      "execution_count": null,
      "outputs": [
        {
          "output_type": "execute_result",
          "data": {
            "text/plain": [
              "array([[-2.2645e+00, -5.0570e-01],\n",
              "       [-2.0864e+00,  6.5540e-01],\n",
              "       [-2.3680e+00,  3.1848e-01],\n",
              "       [-2.3042e+00,  5.7537e-01],\n",
              "       [-2.3888e+00, -6.7477e-01],\n",
              "       [-2.0705e+00, -1.5185e+00],\n",
              "       [-2.4457e+00, -7.4563e-02],\n",
              "       [-2.2338e+00, -2.4761e-01],\n",
              "       [-2.3420e+00,  1.0951e+00],\n",
              "       [-2.1887e+00,  4.4863e-01],\n",
              "       [-2.1635e+00, -1.0706e+00],\n",
              "       [-2.3274e+00, -1.5859e-01],\n",
              "       [-2.2241e+00,  7.0912e-01],\n",
              "       [-2.6397e+00,  9.3828e-01],\n",
              "       [-2.1923e+00, -1.8900e+00],\n",
              "       [-2.2515e+00, -2.7224e+00],\n",
              "       [-2.2028e+00, -1.5138e+00],\n",
              "       [-2.1902e+00, -5.1430e-01],\n",
              "       [-1.8941e+00, -1.4311e+00],\n",
              "       [-2.3399e+00, -1.1580e+00],\n",
              "       [-1.9146e+00, -4.3047e-01],\n",
              "       [-2.2046e+00, -9.5246e-01],\n",
              "       [-2.7742e+00, -4.8952e-01],\n",
              "       [-1.8204e+00, -1.0675e-01],\n",
              "       [-2.2282e+00, -1.6219e-01],\n",
              "       [-1.9570e+00,  6.0789e-01],\n",
              "       [-2.0521e+00, -2.6601e-01],\n",
              "       [-2.1682e+00, -5.5202e-01],\n",
              "       [-2.1403e+00, -3.3664e-01],\n",
              "       [-2.2688e+00,  3.1488e-01],\n",
              "       [-2.1446e+00,  4.8394e-01],\n",
              "       [-1.8319e+00, -4.4527e-01],\n",
              "       [-2.6082e+00, -1.8285e+00],\n",
              "       [-2.4380e+00, -2.1854e+00],\n",
              "       [-2.1887e+00,  4.4863e-01],\n",
              "       [-2.2111e+00,  1.8434e-01],\n",
              "       [-2.0444e+00, -6.8496e-01],\n",
              "       [-2.1887e+00,  4.4863e-01],\n",
              "       [-2.4360e+00,  8.8217e-01],\n",
              "       [-2.1705e+00, -2.9273e-01],\n",
              "       [-2.2865e+00, -4.6799e-01],\n",
              "       [-1.8717e+00,  2.3277e+00],\n",
              "       [-2.5578e+00,  4.5382e-01],\n",
              "       [-1.9643e+00, -4.9739e-01],\n",
              "       [-2.1334e+00, -1.1714e+00],\n",
              "       [-2.0754e+00,  6.9192e-01],\n",
              "       [-2.3813e+00, -1.1506e+00],\n",
              "       [-2.3982e+00,  3.6239e-01],\n",
              "       [-2.2268e+00, -1.0255e+00],\n",
              "       [-2.2060e+00, -3.2238e-02],\n",
              "       [ 1.1040e+00, -8.6311e-01],\n",
              "       [ 7.3248e-01, -5.9864e-01],\n",
              "       [ 1.2421e+00, -6.1482e-01],\n",
              "       [ 3.9731e-01,  1.7582e+00],\n",
              "       [ 1.0726e+00,  2.1176e-01],\n",
              "       [ 3.8446e-01,  5.9106e-01],\n",
              "       [ 7.4872e-01, -7.7870e-01],\n",
              "       [-4.9786e-01,  1.8489e+00],\n",
              "       [ 9.2622e-01, -3.0331e-02],\n",
              "       [ 4.9680e-03,  1.0294e+00],\n",
              "       [-1.2470e-01,  2.6581e+00],\n",
              "       [ 4.3873e-01,  5.8881e-02],\n",
              "       [ 5.5163e-01,  1.7726e+00],\n",
              "       [ 7.1717e-01,  1.8543e-01],\n",
              "       [-3.7258e-02,  4.3280e-01],\n",
              "       [ 8.7589e-01, -5.1000e-01],\n",
              "       [ 3.4801e-01,  1.9062e-01],\n",
              "       [ 1.5339e-01,  7.9073e-01],\n",
              "       [ 1.2153e+00,  1.6334e+00],\n",
              "       [ 1.5694e-01,  1.3031e+00],\n",
              "       [ 7.3826e-01, -4.0247e-01],\n",
              "       [ 4.7237e-01,  4.1661e-01],\n",
              "       [ 1.2280e+00,  9.4091e-01],\n",
              "       [ 6.2938e-01,  4.1681e-01],\n",
              "       [ 7.0047e-01,  6.3494e-02],\n",
              "       [ 8.7354e-01, -2.5071e-01],\n",
              "       [ 1.2542e+00,  8.2620e-02],\n",
              "       [ 1.3582e+00, -3.2882e-01],\n",
              "       [ 6.6213e-01,  2.2435e-01],\n",
              "       [-4.7282e-02,  1.0572e+00],\n",
              "       [ 1.2153e-01,  1.5636e+00],\n",
              "       [ 1.4118e-02,  1.5734e+00],\n",
              "       [ 2.3601e-01,  7.7592e-01],\n",
              "       [ 1.0567e+00,  6.3690e-01],\n",
              "       [ 2.2142e-01,  2.8085e-01],\n",
              "       [ 4.3178e-01, -8.5514e-01],\n",
              "       [ 1.0494e+00, -5.2220e-01],\n",
              "       [ 1.0359e+00,  1.3925e+00],\n",
              "       [ 6.7068e-02,  2.1262e-01],\n",
              "       [ 2.7543e-01,  1.3298e+00],\n",
              "       [ 2.7234e-01,  1.1194e+00],\n",
              "       [ 6.2317e-01, -2.7543e-02],\n",
              "       [ 3.3001e-01,  9.8890e-01],\n",
              "       [-3.7363e-01,  2.0179e+00],\n",
              "       [ 2.8294e-01,  8.5395e-01],\n",
              "       [ 8.9053e-02,  1.7491e-01],\n",
              "       [ 2.2436e-01,  3.8048e-01],\n",
              "       [ 5.7388e-01,  1.5372e-01],\n",
              "       [-4.5701e-01,  1.5395e+00],\n",
              "       [ 2.5224e-01,  5.9586e-01],\n",
              "       [ 1.8477e+00, -8.7170e-01],\n",
              "       [ 1.1532e+00,  7.0133e-01],\n",
              "       [ 2.2063e+00, -5.5447e-01],\n",
              "       [ 1.4387e+00,  5.0011e-02],\n",
              "       [ 1.8679e+00, -2.9119e-01],\n",
              "       [ 2.7542e+00, -7.8843e-01],\n",
              "       [ 3.5837e-01,  1.5601e+00],\n",
              "       [ 2.3030e+00, -4.0952e-01],\n",
              "       [ 2.0017e+00,  7.2387e-01],\n",
              "       [ 2.2676e+00, -1.9214e+00],\n",
              "       [ 1.3659e+00, -6.9395e-01],\n",
              "       [ 1.5991e+00,  4.2825e-01],\n",
              "       [ 1.8843e+00, -4.1433e-01],\n",
              "       [ 1.2531e+00,  1.1674e+00],\n",
              "       [ 1.4641e+00,  4.4415e-01],\n",
              "       [ 1.5918e+00, -6.7704e-01],\n",
              "       [ 1.4713e+00, -2.5319e-01],\n",
              "       [ 2.4374e+00, -2.5568e+00],\n",
              "       [ 3.3091e+00,  2.3613e-03],\n",
              "       [ 1.2540e+00,  1.7176e+00],\n",
              "       [ 2.0405e+00, -9.0740e-01],\n",
              "       [ 9.7392e-01,  5.7117e-01],\n",
              "       [ 2.8981e+00, -3.9779e-01],\n",
              "       [ 1.3292e+00,  4.8676e-01],\n",
              "       [ 1.7042e+00, -1.0141e+00],\n",
              "       [ 1.9577e+00, -1.0033e+00],\n",
              "       [ 1.1719e+00,  3.1890e-01],\n",
              "       [ 1.0198e+00, -6.5543e-02],\n",
              "       [ 1.7860e+00,  1.9327e-01],\n",
              "       [ 1.8648e+00, -5.5538e-01],\n",
              "       [ 2.4355e+00, -2.4665e-01],\n",
              "       [ 2.3161e+00, -2.6262e+00],\n",
              "       [ 1.8604e+00,  1.8467e-01],\n",
              "       [ 1.1113e+00,  2.9599e-01],\n",
              "       [ 1.1975e+00,  8.1717e-01],\n",
              "       [ 2.8009e+00, -8.4475e-01],\n",
              "       [ 1.5802e+00, -1.0725e+00],\n",
              "       [ 1.3470e+00, -4.2226e-01],\n",
              "       [ 9.2343e-01, -1.9230e-02],\n",
              "       [ 1.8536e+00, -6.7242e-01],\n",
              "       [ 2.0162e+00, -6.1040e-01],\n",
              "       [ 1.9031e+00, -6.8602e-01],\n",
              "       [ 1.1532e+00,  7.0133e-01],\n",
              "       [ 2.0433e+00, -8.6468e-01],\n",
              "       [ 2.0017e+00, -1.0486e+00],\n",
              "       [ 1.8705e+00, -3.8282e-01],\n",
              "       [ 1.5585e+00,  9.0531e-01],\n",
              "       [ 1.5208e+00, -2.6679e-01],\n",
              "       [ 1.3764e+00, -1.0164e+00],\n",
              "       [ 9.5930e-01,  2.2284e-02]])"
            ]
          },
          "metadata": {},
          "execution_count": 97
        }
      ]
    },
    {
      "cell_type": "code",
      "source": [
        "import matplotlib.pyplot as plt"
      ],
      "metadata": {
        "id": "gilbulwt1Q3U"
      },
      "execution_count": null,
      "outputs": []
    },
    {
      "cell_type": "code",
      "source": [
        "Y = Y.map({'Iris-setosa':1,'Iris-virginica':3,'Iris-versicolor':2})"
      ],
      "metadata": {
        "id": "1SfHP6YH1eOQ"
      },
      "execution_count": null,
      "outputs": []
    },
    {
      "cell_type": "code",
      "source": [
        "plt.scatter(transform[:,0],transform[:,1],c=Y)"
      ],
      "metadata": {
        "colab": {
          "base_uri": "https://localhost:8080/",
          "height": 284
        },
        "id": "oqfWX1ZE1Uv2",
        "outputId": "a646cc46-33c0-4454-b0c3-e2270ec612b8"
      },
      "execution_count": null,
      "outputs": [
        {
          "output_type": "execute_result",
          "data": {
            "text/plain": [
              "<matplotlib.collections.PathCollection at 0x7f6b9c47d2d0>"
            ]
          },
          "metadata": {},
          "execution_count": 100
        },
        {
          "output_type": "display_data",
          "data": {
            "text/plain": [
              "<Figure size 432x288 with 1 Axes>"
            ],
            "image/png": "[encoded data removed]"
          },
          "metadata": {
            "needs_background": "light"
          }
        }
      ]
    },
    {
      "cell_type": "code",
      "source": [
        "from sklearn.decomposition import PCA"
      ],
      "metadata": {
        "id": "dZyGtXBZ1bED"
      },
      "execution_count": null,
      "outputs": []
    },
    {
      "cell_type": "code",
      "source": [
        "pca = PCA(n_components=2)"
      ],
      "metadata": {
        "id": "kOVzc-YC1oTE"
      },
      "execution_count": null,
      "outputs": []
    },
    {
      "cell_type": "code",
      "source": [
        "transformsk = pca.fit_transform(X)"
      ],
      "metadata": {
        "id": "TM-hSydB1qbS"
      },
      "execution_count": null,
      "outputs": []
    },
    {
      "cell_type": "code",
      "source": [
        "plt.scatter(transformsk[:,0],transformsk[:,1]*-1,c=Y)"
      ],
      "metadata": {
        "colab": {
          "base_uri": "https://localhost:8080/",
          "height": 284
        },
        "id": "-n9d6AgZ1tSg",
        "outputId": "aceaf36b-94fe-49a3-f4f1-cc4062308966"
      },
      "execution_count": null,
      "outputs": [
        {
          "output_type": "execute_result",
          "data": {
            "text/plain": [
              "<matplotlib.collections.PathCollection at 0x7f6b9c433290>"
            ]
          },
          "metadata": {},
          "execution_count": 104
        },
        {
          "output_type": "display_data",
          "data": {
            "text/plain": [
              "<Figure size 432x288 with 1 Axes>"
            ],
            "image/png": "[encoded data removed]"
          },
          "metadata": {
            "needs_background": "light"
          }
        }
      ]
    }
  ]
}