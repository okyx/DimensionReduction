{
  "nbformat": 4,
  "nbformat_minor": 0,
  "metadata": {
    "colab": {
      "name": "Singular Value Decomposition.ipynb",
      "provenance": [],
      "collapsed_sections": []
    },
    "kernelspec": {
      "name": "python3",
      "display_name": "Python 3"
    },
    "language_info": {
      "name": "python"
    }
  },
  "cells": [
    {
      "cell_type": "code",
      "execution_count": null,
      "metadata": {
        "id": "GOSn_jPlqRjF"
      },
      "outputs": [],
      "source": [
        "import pandas as pd\n",
        "import numpy as np"
      ]
    },
    {
      "cell_type": "code",
      "source": [
        "np.set_printoptions(precision=4)"
      ],
      "metadata": {
        "id": "1N6uwsa1njt2"
      },
      "execution_count": null,
      "outputs": []
    },
    {
      "cell_type": "code",
      "source": [
        "data = pd.read_csv('https://raw.githubusercontent.com/okyx/clustering/master/Iris.csv')"
      ],
      "metadata": {
        "id": "9-_czep4qitd"
      },
      "execution_count": null,
      "outputs": []
    },
    {
      "cell_type": "code",
      "source": [
        "data.columns=['Id',0,1,2,3,'Species']"
      ],
      "metadata": {
        "id": "xwS6DecIqo8y"
      },
      "execution_count": null,
      "outputs": []
    },
    {
      "cell_type": "code",
      "source": [
        "data"
      ],
      "metadata": {
        "colab": {
          "base_uri": "https://localhost:8080/",
          "height": 424
        },
        "id": "RvbRDbSarABX",
        "outputId": "49e3f9ca-f883-4190-936c-118cd576dedc"
      },
      "execution_count": null,
      "outputs": [
        {
          "output_type": "execute_result",
          "data": {
            "text/plain": [
              "      Id    0    1    2    3         Species\n",
              "0      1  5.1  3.5  1.4  0.2     Iris-setosa\n",
              "1      2  4.9  3.0  1.4  0.2     Iris-setosa\n",
              "2      3  4.7  3.2  1.3  0.2     Iris-setosa\n",
              "3      4  4.6  3.1  1.5  0.2     Iris-setosa\n",
              "4      5  5.0  3.6  1.4  0.2     Iris-setosa\n",
              "..   ...  ...  ...  ...  ...             ...\n",
              "145  146  6.7  3.0  5.2  2.3  Iris-virginica\n",
              "146  147  6.3  2.5  5.0  1.9  Iris-virginica\n",
              "147  148  6.5  3.0  5.2  2.0  Iris-virginica\n",
              "148  149  6.2  3.4  5.4  2.3  Iris-virginica\n",
              "149  150  5.9  3.0  5.1  1.8  Iris-virginica\n",
              "\n",
              "[150 rows x 6 columns]"
            ],
            "text/html": [
              "\n",
              "  <div id=\"df-9cb758b9-6813-49d0-9fcc-ae14797caa3a\">\n",
              "    <div class=\"colab-df-container\">\n",
              "      <div>\n",
              "<style scoped>\n",
              "    .dataframe tbody tr th:only-of-type {\n",
              "        vertical-align: middle;\n",
              "    }\n",
              "\n",
              "    .dataframe tbody tr th {\n",
              "        vertical-align: top;\n",
              "    }\n",
              "\n",
              "    .dataframe thead th {\n",
              "        text-align: right;\n",
              "    }\n",
              "</style>\n",
              "<table border=\"1\" class=\"dataframe\">\n",
              "  <thead>\n",
              "    <tr style=\"text-align: right;\">\n",
              "      <th></th>\n",
              "      <th>Id</th>\n",
              "      <th>0</th>\n",
              "      <th>1</th>\n",
              "      <th>2</th>\n",
              "      <th>3</th>\n",
              "      <th>Species</th>\n",
              "    </tr>\n",
              "  </thead>\n",
              "  <tbody>\n",
              "    <tr>\n",
              "      <th>0</th>\n",
              "      <td>1</td>\n",
              "      <td>5.1</td>\n",
              "      <td>3.5</td>\n",
              "      <td>1.4</td>\n",
              "      <td>0.2</td>\n",
              "      <td>Iris-setosa</td>\n",
              "    </tr>\n",
              "    <tr>\n",
              "      <th>1</th>\n",
              "      <td>2</td>\n",
              "      <td>4.9</td>\n",
              "      <td>3.0</td>\n",
              "      <td>1.4</td>\n",
              "      <td>0.2</td>\n",
              "      <td>Iris-setosa</td>\n",
              "    </tr>\n",
              "    <tr>\n",
              "      <th>2</th>\n",
              "      <td>3</td>\n",
              "      <td>4.7</td>\n",
              "      <td>3.2</td>\n",
              "      <td>1.3</td>\n",
              "      <td>0.2</td>\n",
              "      <td>Iris-setosa</td>\n",
              "    </tr>\n",
              "    <tr>\n",
              "      <th>3</th>\n",
              "      <td>4</td>\n",
              "      <td>4.6</td>\n",
              "      <td>3.1</td>\n",
              "      <td>1.5</td>\n",
              "      <td>0.2</td>\n",
              "      <td>Iris-setosa</td>\n",
              "    </tr>\n",
              "    <tr>\n",
              "      <th>4</th>\n",
              "      <td>5</td>\n",
              "      <td>5.0</td>\n",
              "      <td>3.6</td>\n",
              "      <td>1.4</td>\n",
              "      <td>0.2</td>\n",
              "      <td>Iris-setosa</td>\n",
              "    </tr>\n",
              "    <tr>\n",
              "      <th>...</th>\n",
              "      <td>...</td>\n",
              "      <td>...</td>\n",
              "      <td>...</td>\n",
              "      <td>...</td>\n",
              "      <td>...</td>\n",
              "      <td>...</td>\n",
              "    </tr>\n",
              "    <tr>\n",
              "      <th>145</th>\n",
              "      <td>146</td>\n",
              "      <td>6.7</td>\n",
              "      <td>3.0</td>\n",
              "      <td>5.2</td>\n",
              "      <td>2.3</td>\n",
              "      <td>Iris-virginica</td>\n",
              "    </tr>\n",
              "    <tr>\n",
              "      <th>146</th>\n",
              "      <td>147</td>\n",
              "      <td>6.3</td>\n",
              "      <td>2.5</td>\n",
              "      <td>5.0</td>\n",
              "      <td>1.9</td>\n",
              "      <td>Iris-virginica</td>\n",
              "    </tr>\n",
              "    <tr>\n",
              "      <th>147</th>\n",
              "      <td>148</td>\n",
              "      <td>6.5</td>\n",
              "      <td>3.0</td>\n",
              "      <td>5.2</td>\n",
              "      <td>2.0</td>\n",
              "      <td>Iris-virginica</td>\n",
              "    </tr>\n",
              "    <tr>\n",
              "      <th>148</th>\n",
              "      <td>149</td>\n",
              "      <td>6.2</td>\n",
              "      <td>3.4</td>\n",
              "      <td>5.4</td>\n",
              "      <td>2.3</td>\n",
              "      <td>Iris-virginica</td>\n",
              "    </tr>\n",
              "    <tr>\n",
              "      <th>149</th>\n",
              "      <td>150</td>\n",
              "      <td>5.9</td>\n",
              "      <td>3.0</td>\n",
              "      <td>5.1</td>\n",
              "      <td>1.8</td>\n",
              "      <td>Iris-virginica</td>\n",
              "    </tr>\n",
              "  </tbody>\n",
              "</table>\n",
              "<p>150 rows × 6 columns</p>\n",
              "</div>\n",
              "      <button class=\"colab-df-convert\" onclick=\"convertToInteractive('df-9cb758b9-6813-49d0-9fcc-ae14797caa3a')\"\n",
              "              title=\"Convert this dataframe to an interactive table.\"\n",
              "              style=\"display:none;\">\n",
              "        \n",
              "  <svg xmlns=\"http://www.w3.org/2000/svg\" height=\"24px\"viewBox=\"0 0 24 24\"\n",
              "       width=\"24px\">\n",
              "    <path d=\"M0 0h24v24H0V0z\" fill=\"none\"/>\n",
              "    <path d=\"M18.56 5.44l.94 2.06.94-2.06 2.06-.94-2.06-.94-.94-2.06-.94 2.06-2.06.94zm-11 1L8.5 8.5l.94-2.06 2.06-.94-2.06-.94L8.5 2.5l-.94 2.06-2.06.94zm10 10l.94 2.06.94-2.06 2.06-.94-2.06-.94-.94-2.06-.94 2.06-2.06.94z\"/><path d=\"M17.41 7.96l-1.37-1.37c-.4-.4-.92-.59-1.43-.59-.52 0-1.04.2-1.43.59L10.3 9.45l-7.72 7.72c-.78.78-.78 2.05 0 2.83L4 21.41c.39.39.9.59 1.41.59.51 0 1.02-.2 1.41-.59l7.78-7.78 2.81-2.81c.8-.78.8-2.07 0-2.86zM5.41 20L4 18.59l7.72-7.72 1.47 1.35L5.41 20z\"/>\n",
              "  </svg>\n",
              "      </button>\n",
              "      \n",
              "  <style>\n",
              "    .colab-df-container {\n",
              "      display:flex;\n",
              "      flex-wrap:wrap;\n",
              "      gap: 12px;\n",
              "    }\n",
              "\n",
              "    .colab-df-convert {\n",
              "      background-color: #E8F0FE;\n",
              "      border: none;\n",
              "      border-radius: 50%;\n",
              "      cursor: pointer;\n",
              "      display: none;\n",
              "      fill: #1967D2;\n",
              "      height: 32px;\n",
              "      padding: 0 0 0 0;\n",
              "      width: 32px;\n",
              "    }\n",
              "\n",
              "    .colab-df-convert:hover {\n",
              "      background-color: #E2EBFA;\n",
              "      box-shadow: 0px 1px 2px rgba(60, 64, 67, 0.3), 0px 1px 3px 1px rgba(60, 64, 67, 0.15);\n",
              "      fill: #174EA6;\n",
              "    }\n",
              "\n",
              "    [theme=dark] .colab-df-convert {\n",
              "      background-color: #3B4455;\n",
              "      fill: #D2E3FC;\n",
              "    }\n",
              "\n",
              "    [theme=dark] .colab-df-convert:hover {\n",
              "      background-color: #434B5C;\n",
              "      box-shadow: 0px 1px 3px 1px rgba(0, 0, 0, 0.15);\n",
              "      filter: drop-shadow(0px 1px 2px rgba(0, 0, 0, 0.3));\n",
              "      fill: #FFFFFF;\n",
              "    }\n",
              "  </style>\n",
              "\n",
              "      <script>\n",
              "        const buttonEl =\n",
              "          document.querySelector('#df-9cb758b9-6813-49d0-9fcc-ae14797caa3a button.colab-df-convert');\n",
              "        buttonEl.style.display =\n",
              "          google.colab.kernel.accessAllowed ? 'block' : 'none';\n",
              "\n",
              "        async function convertToInteractive(key) {\n",
              "          const element = document.querySelector('#df-9cb758b9-6813-49d0-9fcc-ae14797caa3a');\n",
              "          const dataTable =\n",
              "            await google.colab.kernel.invokeFunction('convertToInteractive',\n",
              "                                                     [key], {});\n",
              "          if (!dataTable) return;\n",
              "\n",
              "          const docLinkHtml = 'Like what you see? Visit the ' +\n",
              "            '<a target=\"_blank\" href=https://colab.research.google.com/notebooks/data_table.ipynb>data table notebook</a>'\n",
              "            + ' to learn more about interactive tables.';\n",
              "          element.innerHTML = '';\n",
              "          dataTable['output_type'] = 'display_data';\n",
              "          await google.colab.output.renderOutput(dataTable, element);\n",
              "          const docLink = document.createElement('div');\n",
              "          docLink.innerHTML = docLinkHtml;\n",
              "          element.appendChild(docLink);\n",
              "        }\n",
              "      </script>\n",
              "    </div>\n",
              "  </div>\n",
              "  "
            ]
          },
          "metadata": {},
          "execution_count": 5
        }
      ]
    },
    {
      "cell_type": "code",
      "source": [
        "Y = data.pop('Species')\n",
        "X = data[[0,1,2,3]]"
      ],
      "metadata": {
        "id": "ruou-3ItzfG0"
      },
      "execution_count": null,
      "outputs": []
    },
    {
      "cell_type": "code",
      "source": [
        "Y = Y.map({'Iris-setosa':1,'Iris-virginica':3,'Iris-versicolor':2})"
      ],
      "metadata": {
        "id": "QnZnVJNACP7Y"
      },
      "execution_count": null,
      "outputs": []
    },
    {
      "cell_type": "code",
      "source": [
        "X"
      ],
      "metadata": {
        "colab": {
          "base_uri": "https://localhost:8080/",
          "height": 424
        },
        "id": "sV0MNaVzzjum",
        "outputId": "017d2046-9d5e-4ba6-ebf6-0600cefd7120"
      },
      "execution_count": null,
      "outputs": [
        {
          "output_type": "execute_result",
          "data": {
            "text/plain": [
              "       0    1    2    3\n",
              "0    5.1  3.5  1.4  0.2\n",
              "1    4.9  3.0  1.4  0.2\n",
              "2    4.7  3.2  1.3  0.2\n",
              "3    4.6  3.1  1.5  0.2\n",
              "4    5.0  3.6  1.4  0.2\n",
              "..   ...  ...  ...  ...\n",
              "145  6.7  3.0  5.2  2.3\n",
              "146  6.3  2.5  5.0  1.9\n",
              "147  6.5  3.0  5.2  2.0\n",
              "148  6.2  3.4  5.4  2.3\n",
              "149  5.9  3.0  5.1  1.8\n",
              "\n",
              "[150 rows x 4 columns]"
            ],
            "text/html": [
              "\n",
              "  <div id=\"df-a724be59-1fd8-4e7b-9a28-22627a23b196\">\n",
              "    <div class=\"colab-df-container\">\n",
              "      <div>\n",
              "<style scoped>\n",
              "    .dataframe tbody tr th:only-of-type {\n",
              "        vertical-align: middle;\n",
              "    }\n",
              "\n",
              "    .dataframe tbody tr th {\n",
              "        vertical-align: top;\n",
              "    }\n",
              "\n",
              "    .dataframe thead th {\n",
              "        text-align: right;\n",
              "    }\n",
              "</style>\n",
              "<table border=\"1\" class=\"dataframe\">\n",
              "  <thead>\n",
              "    <tr style=\"text-align: right;\">\n",
              "      <th></th>\n",
              "      <th>0</th>\n",
              "      <th>1</th>\n",
              "      <th>2</th>\n",
              "      <th>3</th>\n",
              "    </tr>\n",
              "  </thead>\n",
              "  <tbody>\n",
              "    <tr>\n",
              "      <th>0</th>\n",
              "      <td>5.1</td>\n",
              "      <td>3.5</td>\n",
              "      <td>1.4</td>\n",
              "      <td>0.2</td>\n",
              "    </tr>\n",
              "    <tr>\n",
              "      <th>1</th>\n",
              "      <td>4.9</td>\n",
              "      <td>3.0</td>\n",
              "      <td>1.4</td>\n",
              "      <td>0.2</td>\n",
              "    </tr>\n",
              "    <tr>\n",
              "      <th>2</th>\n",
              "      <td>4.7</td>\n",
              "      <td>3.2</td>\n",
              "      <td>1.3</td>\n",
              "      <td>0.2</td>\n",
              "    </tr>\n",
              "    <tr>\n",
              "      <th>3</th>\n",
              "      <td>4.6</td>\n",
              "      <td>3.1</td>\n",
              "      <td>1.5</td>\n",
              "      <td>0.2</td>\n",
              "    </tr>\n",
              "    <tr>\n",
              "      <th>4</th>\n",
              "      <td>5.0</td>\n",
              "      <td>3.6</td>\n",
              "      <td>1.4</td>\n",
              "      <td>0.2</td>\n",
              "    </tr>\n",
              "    <tr>\n",
              "      <th>...</th>\n",
              "      <td>...</td>\n",
              "      <td>...</td>\n",
              "      <td>...</td>\n",
              "      <td>...</td>\n",
              "    </tr>\n",
              "    <tr>\n",
              "      <th>145</th>\n",
              "      <td>6.7</td>\n",
              "      <td>3.0</td>\n",
              "      <td>5.2</td>\n",
              "      <td>2.3</td>\n",
              "    </tr>\n",
              "    <tr>\n",
              "      <th>146</th>\n",
              "      <td>6.3</td>\n",
              "      <td>2.5</td>\n",
              "      <td>5.0</td>\n",
              "      <td>1.9</td>\n",
              "    </tr>\n",
              "    <tr>\n",
              "      <th>147</th>\n",
              "      <td>6.5</td>\n",
              "      <td>3.0</td>\n",
              "      <td>5.2</td>\n",
              "      <td>2.0</td>\n",
              "    </tr>\n",
              "    <tr>\n",
              "      <th>148</th>\n",
              "      <td>6.2</td>\n",
              "      <td>3.4</td>\n",
              "      <td>5.4</td>\n",
              "      <td>2.3</td>\n",
              "    </tr>\n",
              "    <tr>\n",
              "      <th>149</th>\n",
              "      <td>5.9</td>\n",
              "      <td>3.0</td>\n",
              "      <td>5.1</td>\n",
              "      <td>1.8</td>\n",
              "    </tr>\n",
              "  </tbody>\n",
              "</table>\n",
              "<p>150 rows × 4 columns</p>\n",
              "</div>\n",
              "      <button class=\"colab-df-convert\" onclick=\"convertToInteractive('df-a724be59-1fd8-4e7b-9a28-22627a23b196')\"\n",
              "              title=\"Convert this dataframe to an interactive table.\"\n",
              "              style=\"display:none;\">\n",
              "        \n",
              "  <svg xmlns=\"http://www.w3.org/2000/svg\" height=\"24px\"viewBox=\"0 0 24 24\"\n",
              "       width=\"24px\">\n",
              "    <path d=\"M0 0h24v24H0V0z\" fill=\"none\"/>\n",
              "    <path d=\"M18.56 5.44l.94 2.06.94-2.06 2.06-.94-2.06-.94-.94-2.06-.94 2.06-2.06.94zm-11 1L8.5 8.5l.94-2.06 2.06-.94-2.06-.94L8.5 2.5l-.94 2.06-2.06.94zm10 10l.94 2.06.94-2.06 2.06-.94-2.06-.94-.94-2.06-.94 2.06-2.06.94z\"/><path d=\"M17.41 7.96l-1.37-1.37c-.4-.4-.92-.59-1.43-.59-.52 0-1.04.2-1.43.59L10.3 9.45l-7.72 7.72c-.78.78-.78 2.05 0 2.83L4 21.41c.39.39.9.59 1.41.59.51 0 1.02-.2 1.41-.59l7.78-7.78 2.81-2.81c.8-.78.8-2.07 0-2.86zM5.41 20L4 18.59l7.72-7.72 1.47 1.35L5.41 20z\"/>\n",
              "  </svg>\n",
              "      </button>\n",
              "      \n",
              "  <style>\n",
              "    .colab-df-container {\n",
              "      display:flex;\n",
              "      flex-wrap:wrap;\n",
              "      gap: 12px;\n",
              "    }\n",
              "\n",
              "    .colab-df-convert {\n",
              "      background-color: #E8F0FE;\n",
              "      border: none;\n",
              "      border-radius: 50%;\n",
              "      cursor: pointer;\n",
              "      display: none;\n",
              "      fill: #1967D2;\n",
              "      height: 32px;\n",
              "      padding: 0 0 0 0;\n",
              "      width: 32px;\n",
              "    }\n",
              "\n",
              "    .colab-df-convert:hover {\n",
              "      background-color: #E2EBFA;\n",
              "      box-shadow: 0px 1px 2px rgba(60, 64, 67, 0.3), 0px 1px 3px 1px rgba(60, 64, 67, 0.15);\n",
              "      fill: #174EA6;\n",
              "    }\n",
              "\n",
              "    [theme=dark] .colab-df-convert {\n",
              "      background-color: #3B4455;\n",
              "      fill: #D2E3FC;\n",
              "    }\n",
              "\n",
              "    [theme=dark] .colab-df-convert:hover {\n",
              "      background-color: #434B5C;\n",
              "      box-shadow: 0px 1px 3px 1px rgba(0, 0, 0, 0.15);\n",
              "      filter: drop-shadow(0px 1px 2px rgba(0, 0, 0, 0.3));\n",
              "      fill: #FFFFFF;\n",
              "    }\n",
              "  </style>\n",
              "\n",
              "      <script>\n",
              "        const buttonEl =\n",
              "          document.querySelector('#df-a724be59-1fd8-4e7b-9a28-22627a23b196 button.colab-df-convert');\n",
              "        buttonEl.style.display =\n",
              "          google.colab.kernel.accessAllowed ? 'block' : 'none';\n",
              "\n",
              "        async function convertToInteractive(key) {\n",
              "          const element = document.querySelector('#df-a724be59-1fd8-4e7b-9a28-22627a23b196');\n",
              "          const dataTable =\n",
              "            await google.colab.kernel.invokeFunction('convertToInteractive',\n",
              "                                                     [key], {});\n",
              "          if (!dataTable) return;\n",
              "\n",
              "          const docLinkHtml = 'Like what you see? Visit the ' +\n",
              "            '<a target=\"_blank\" href=https://colab.research.google.com/notebooks/data_table.ipynb>data table notebook</a>'\n",
              "            + ' to learn more about interactive tables.';\n",
              "          element.innerHTML = '';\n",
              "          dataTable['output_type'] = 'display_data';\n",
              "          await google.colab.output.renderOutput(dataTable, element);\n",
              "          const docLink = document.createElement('div');\n",
              "          docLink.innerHTML = docLinkHtml;\n",
              "          element.appendChild(docLink);\n",
              "        }\n",
              "      </script>\n",
              "    </div>\n",
              "  </div>\n",
              "  "
            ]
          },
          "metadata": {},
          "execution_count": 8
        }
      ]
    },
    {
      "cell_type": "markdown",
      "source": [
        ""
      ],
      "metadata": {
        "id": "4r3DNbud7Cor"
      }
    },
    {
      "cell_type": "code",
      "source": [
        "U = X @ X.T\n",
        "V= X.T @ X"
      ],
      "metadata": {
        "id": "jLvmeZGQ7Rr9"
      },
      "execution_count": null,
      "outputs": []
    },
    {
      "cell_type": "code",
      "source": [
        "U"
      ],
      "metadata": {
        "colab": {
          "base_uri": "https://localhost:8080/",
          "height": 424
        },
        "id": "HD8X59Fr7UDX",
        "outputId": "a709a209-2bcb-4ab4-cbb0-d0c5aafae293"
      },
      "execution_count": null,
      "outputs": [
        {
          "output_type": "execute_result",
          "data": {
            "text/plain": [
              "       0      1      2      3      4      5      6      7      8      9    \\\n",
              "0    40.26  37.49  37.03  36.45  40.10  43.65  37.38  39.54  34.59  37.96   \n",
              "1    37.49  35.01  34.49  33.98  37.30  40.62  34.76  36.84  32.26  35.43   \n",
              "2    37.03  34.49  34.06  33.53  36.88  40.15  34.38  36.37  31.82  34.92   \n",
              "3    36.45  33.98  33.53  33.06  36.30  39.56  33.86  35.83  31.37  34.42   \n",
              "4    40.10  37.30  36.88  36.30  39.96  43.50  37.26  39.38  34.44  37.78   \n",
              "..     ...    ...    ...    ...    ...    ...    ...    ...    ...    ...   \n",
              "145  52.41  49.57  48.31  48.38  52.04  57.64  48.99  51.96  45.92  50.16   \n",
              "146  48.26  45.75  44.49  44.61  47.88  53.03  45.05  47.88  42.35  46.31   \n",
              "147  51.33  48.53  47.31  47.40  50.98  56.44  47.98  50.90  44.98  49.15   \n",
              "148  51.54  48.60  47.50  47.62  51.26  56.84  48.33  51.12  45.16  49.25   \n",
              "149  48.09  45.41  44.32  44.45  47.80  52.95  45.02  47.71  42.16  46.04   \n",
              "\n",
              "     ...    140    141    142    143    144    145    146    147    148    149  \n",
              "0    ...  53.34  53.64  46.55  54.60  54.20  52.41  48.26  51.33  51.54  48.09  \n",
              "1    ...  50.45  50.71  44.04  51.64  51.21  49.57  45.75  48.53  48.60  45.41  \n",
              "2    ...  49.17  49.44  42.91  50.33  49.96  48.31  44.49  47.31  47.50  44.32  \n",
              "3    ...  49.31  49.46  43.08  50.51  50.10  48.38  44.61  47.40  47.62  44.45  \n",
              "4    ...  52.98  53.26  46.24  54.24  53.86  52.04  47.88  50.98  51.26  47.80  \n",
              "..   ...    ...    ...    ...    ...    ...    ...    ...    ...    ...    ...  \n",
              "145  ...  88.83  87.34  77.85  91.13  90.18  86.22  80.08  84.19  85.11  79.19  \n",
              "146  ...  82.52  81.09  72.40  84.71  83.71  80.08  74.55  78.25  78.93  73.59  \n",
              "147  ...  86.77  85.27  76.12  89.08  88.09  84.19  78.25  82.29  83.18  77.47  \n",
              "148  ...  87.84  86.15  77.05  90.19  89.29  85.11  78.93  83.18  84.45  78.46  \n",
              "149  ...  81.71  80.16  71.75  83.95  83.00  79.19  73.59  77.47  78.46  73.06  \n",
              "\n",
              "[150 rows x 150 columns]"
            ],
            "text/html": [
              "\n",
              "  <div id=\"df-f6e5b3ff-b5cd-4d81-bf6f-f568ab4c9f8b\">\n",
              "    <div class=\"colab-df-container\">\n",
              "      <div>\n",
              "<style scoped>\n",
              "    .dataframe tbody tr th:only-of-type {\n",
              "        vertical-align: middle;\n",
              "    }\n",
              "\n",
              "    .dataframe tbody tr th {\n",
              "        vertical-align: top;\n",
              "    }\n",
              "\n",
              "    .dataframe thead th {\n",
              "        text-align: right;\n",
              "    }\n",
              "</style>\n",
              "<table border=\"1\" class=\"dataframe\">\n",
              "  <thead>\n",
              "    <tr style=\"text-align: right;\">\n",
              "      <th></th>\n",
              "      <th>0</th>\n",
              "      <th>1</th>\n",
              "      <th>2</th>\n",
              "      <th>3</th>\n",
              "      <th>4</th>\n",
              "      <th>5</th>\n",
              "      <th>6</th>\n",
              "      <th>7</th>\n",
              "      <th>8</th>\n",
              "      <th>9</th>\n",
              "      <th>...</th>\n",
              "      <th>140</th>\n",
              "      <th>141</th>\n",
              "      <th>142</th>\n",
              "      <th>143</th>\n",
              "      <th>144</th>\n",
              "      <th>145</th>\n",
              "      <th>146</th>\n",
              "      <th>147</th>\n",
              "      <th>148</th>\n",
              "      <th>149</th>\n",
              "    </tr>\n",
              "  </thead>\n",
              "  <tbody>\n",
              "    <tr>\n",
              "      <th>0</th>\n",
              "      <td>40.26</td>\n",
              "      <td>37.49</td>\n",
              "      <td>37.03</td>\n",
              "      <td>36.45</td>\n",
              "      <td>40.10</td>\n",
              "      <td>43.65</td>\n",
              "      <td>37.38</td>\n",
              "      <td>39.54</td>\n",
              "      <td>34.59</td>\n",
              "      <td>37.96</td>\n",
              "      <td>...</td>\n",
              "      <td>53.34</td>\n",
              "      <td>53.64</td>\n",
              "      <td>46.55</td>\n",
              "      <td>54.60</td>\n",
              "      <td>54.20</td>\n",
              "      <td>52.41</td>\n",
              "      <td>48.26</td>\n",
              "      <td>51.33</td>\n",
              "      <td>51.54</td>\n",
              "      <td>48.09</td>\n",
              "    </tr>\n",
              "    <tr>\n",
              "      <th>1</th>\n",
              "      <td>37.49</td>\n",
              "      <td>35.01</td>\n",
              "      <td>34.49</td>\n",
              "      <td>33.98</td>\n",
              "      <td>37.30</td>\n",
              "      <td>40.62</td>\n",
              "      <td>34.76</td>\n",
              "      <td>36.84</td>\n",
              "      <td>32.26</td>\n",
              "      <td>35.43</td>\n",
              "      <td>...</td>\n",
              "      <td>50.45</td>\n",
              "      <td>50.71</td>\n",
              "      <td>44.04</td>\n",
              "      <td>51.64</td>\n",
              "      <td>51.21</td>\n",
              "      <td>49.57</td>\n",
              "      <td>45.75</td>\n",
              "      <td>48.53</td>\n",
              "      <td>48.60</td>\n",
              "      <td>45.41</td>\n",
              "    </tr>\n",
              "    <tr>\n",
              "      <th>2</th>\n",
              "      <td>37.03</td>\n",
              "      <td>34.49</td>\n",
              "      <td>34.06</td>\n",
              "      <td>33.53</td>\n",
              "      <td>36.88</td>\n",
              "      <td>40.15</td>\n",
              "      <td>34.38</td>\n",
              "      <td>36.37</td>\n",
              "      <td>31.82</td>\n",
              "      <td>34.92</td>\n",
              "      <td>...</td>\n",
              "      <td>49.17</td>\n",
              "      <td>49.44</td>\n",
              "      <td>42.91</td>\n",
              "      <td>50.33</td>\n",
              "      <td>49.96</td>\n",
              "      <td>48.31</td>\n",
              "      <td>44.49</td>\n",
              "      <td>47.31</td>\n",
              "      <td>47.50</td>\n",
              "      <td>44.32</td>\n",
              "    </tr>\n",
              "    <tr>\n",
              "      <th>3</th>\n",
              "      <td>36.45</td>\n",
              "      <td>33.98</td>\n",
              "      <td>33.53</td>\n",
              "      <td>33.06</td>\n",
              "      <td>36.30</td>\n",
              "      <td>39.56</td>\n",
              "      <td>33.86</td>\n",
              "      <td>35.83</td>\n",
              "      <td>31.37</td>\n",
              "      <td>34.42</td>\n",
              "      <td>...</td>\n",
              "      <td>49.31</td>\n",
              "      <td>49.46</td>\n",
              "      <td>43.08</td>\n",
              "      <td>50.51</td>\n",
              "      <td>50.10</td>\n",
              "      <td>48.38</td>\n",
              "      <td>44.61</td>\n",
              "      <td>47.40</td>\n",
              "      <td>47.62</td>\n",
              "      <td>44.45</td>\n",
              "    </tr>\n",
              "    <tr>\n",
              "      <th>4</th>\n",
              "      <td>40.10</td>\n",
              "      <td>37.30</td>\n",
              "      <td>36.88</td>\n",
              "      <td>36.30</td>\n",
              "      <td>39.96</td>\n",
              "      <td>43.50</td>\n",
              "      <td>37.26</td>\n",
              "      <td>39.38</td>\n",
              "      <td>34.44</td>\n",
              "      <td>37.78</td>\n",
              "      <td>...</td>\n",
              "      <td>52.98</td>\n",
              "      <td>53.26</td>\n",
              "      <td>46.24</td>\n",
              "      <td>54.24</td>\n",
              "      <td>53.86</td>\n",
              "      <td>52.04</td>\n",
              "      <td>47.88</td>\n",
              "      <td>50.98</td>\n",
              "      <td>51.26</td>\n",
              "      <td>47.80</td>\n",
              "    </tr>\n",
              "    <tr>\n",
              "      <th>...</th>\n",
              "      <td>...</td>\n",
              "      <td>...</td>\n",
              "      <td>...</td>\n",
              "      <td>...</td>\n",
              "      <td>...</td>\n",
              "      <td>...</td>\n",
              "      <td>...</td>\n",
              "      <td>...</td>\n",
              "      <td>...</td>\n",
              "      <td>...</td>\n",
              "      <td>...</td>\n",
              "      <td>...</td>\n",
              "      <td>...</td>\n",
              "      <td>...</td>\n",
              "      <td>...</td>\n",
              "      <td>...</td>\n",
              "      <td>...</td>\n",
              "      <td>...</td>\n",
              "      <td>...</td>\n",
              "      <td>...</td>\n",
              "      <td>...</td>\n",
              "    </tr>\n",
              "    <tr>\n",
              "      <th>145</th>\n",
              "      <td>52.41</td>\n",
              "      <td>49.57</td>\n",
              "      <td>48.31</td>\n",
              "      <td>48.38</td>\n",
              "      <td>52.04</td>\n",
              "      <td>57.64</td>\n",
              "      <td>48.99</td>\n",
              "      <td>51.96</td>\n",
              "      <td>45.92</td>\n",
              "      <td>50.16</td>\n",
              "      <td>...</td>\n",
              "      <td>88.83</td>\n",
              "      <td>87.34</td>\n",
              "      <td>77.85</td>\n",
              "      <td>91.13</td>\n",
              "      <td>90.18</td>\n",
              "      <td>86.22</td>\n",
              "      <td>80.08</td>\n",
              "      <td>84.19</td>\n",
              "      <td>85.11</td>\n",
              "      <td>79.19</td>\n",
              "    </tr>\n",
              "    <tr>\n",
              "      <th>146</th>\n",
              "      <td>48.26</td>\n",
              "      <td>45.75</td>\n",
              "      <td>44.49</td>\n",
              "      <td>44.61</td>\n",
              "      <td>47.88</td>\n",
              "      <td>53.03</td>\n",
              "      <td>45.05</td>\n",
              "      <td>47.88</td>\n",
              "      <td>42.35</td>\n",
              "      <td>46.31</td>\n",
              "      <td>...</td>\n",
              "      <td>82.52</td>\n",
              "      <td>81.09</td>\n",
              "      <td>72.40</td>\n",
              "      <td>84.71</td>\n",
              "      <td>83.71</td>\n",
              "      <td>80.08</td>\n",
              "      <td>74.55</td>\n",
              "      <td>78.25</td>\n",
              "      <td>78.93</td>\n",
              "      <td>73.59</td>\n",
              "    </tr>\n",
              "    <tr>\n",
              "      <th>147</th>\n",
              "      <td>51.33</td>\n",
              "      <td>48.53</td>\n",
              "      <td>47.31</td>\n",
              "      <td>47.40</td>\n",
              "      <td>50.98</td>\n",
              "      <td>56.44</td>\n",
              "      <td>47.98</td>\n",
              "      <td>50.90</td>\n",
              "      <td>44.98</td>\n",
              "      <td>49.15</td>\n",
              "      <td>...</td>\n",
              "      <td>86.77</td>\n",
              "      <td>85.27</td>\n",
              "      <td>76.12</td>\n",
              "      <td>89.08</td>\n",
              "      <td>88.09</td>\n",
              "      <td>84.19</td>\n",
              "      <td>78.25</td>\n",
              "      <td>82.29</td>\n",
              "      <td>83.18</td>\n",
              "      <td>77.47</td>\n",
              "    </tr>\n",
              "    <tr>\n",
              "      <th>148</th>\n",
              "      <td>51.54</td>\n",
              "      <td>48.60</td>\n",
              "      <td>47.50</td>\n",
              "      <td>47.62</td>\n",
              "      <td>51.26</td>\n",
              "      <td>56.84</td>\n",
              "      <td>48.33</td>\n",
              "      <td>51.12</td>\n",
              "      <td>45.16</td>\n",
              "      <td>49.25</td>\n",
              "      <td>...</td>\n",
              "      <td>87.84</td>\n",
              "      <td>86.15</td>\n",
              "      <td>77.05</td>\n",
              "      <td>90.19</td>\n",
              "      <td>89.29</td>\n",
              "      <td>85.11</td>\n",
              "      <td>78.93</td>\n",
              "      <td>83.18</td>\n",
              "      <td>84.45</td>\n",
              "      <td>78.46</td>\n",
              "    </tr>\n",
              "    <tr>\n",
              "      <th>149</th>\n",
              "      <td>48.09</td>\n",
              "      <td>45.41</td>\n",
              "      <td>44.32</td>\n",
              "      <td>44.45</td>\n",
              "      <td>47.80</td>\n",
              "      <td>52.95</td>\n",
              "      <td>45.02</td>\n",
              "      <td>47.71</td>\n",
              "      <td>42.16</td>\n",
              "      <td>46.04</td>\n",
              "      <td>...</td>\n",
              "      <td>81.71</td>\n",
              "      <td>80.16</td>\n",
              "      <td>71.75</td>\n",
              "      <td>83.95</td>\n",
              "      <td>83.00</td>\n",
              "      <td>79.19</td>\n",
              "      <td>73.59</td>\n",
              "      <td>77.47</td>\n",
              "      <td>78.46</td>\n",
              "      <td>73.06</td>\n",
              "    </tr>\n",
              "  </tbody>\n",
              "</table>\n",
              "<p>150 rows × 150 columns</p>\n",
              "</div>\n",
              "      <button class=\"colab-df-convert\" onclick=\"convertToInteractive('df-f6e5b3ff-b5cd-4d81-bf6f-f568ab4c9f8b')\"\n",
              "              title=\"Convert this dataframe to an interactive table.\"\n",
              "              style=\"display:none;\">\n",
              "        \n",
              "  <svg xmlns=\"http://www.w3.org/2000/svg\" height=\"24px\"viewBox=\"0 0 24 24\"\n",
              "       width=\"24px\">\n",
              "    <path d=\"M0 0h24v24H0V0z\" fill=\"none\"/>\n",
              "    <path d=\"M18.56 5.44l.94 2.06.94-2.06 2.06-.94-2.06-.94-.94-2.06-.94 2.06-2.06.94zm-11 1L8.5 8.5l.94-2.06 2.06-.94-2.06-.94L8.5 2.5l-.94 2.06-2.06.94zm10 10l.94 2.06.94-2.06 2.06-.94-2.06-.94-.94-2.06-.94 2.06-2.06.94z\"/><path d=\"M17.41 7.96l-1.37-1.37c-.4-.4-.92-.59-1.43-.59-.52 0-1.04.2-1.43.59L10.3 9.45l-7.72 7.72c-.78.78-.78 2.05 0 2.83L4 21.41c.39.39.9.59 1.41.59.51 0 1.02-.2 1.41-.59l7.78-7.78 2.81-2.81c.8-.78.8-2.07 0-2.86zM5.41 20L4 18.59l7.72-7.72 1.47 1.35L5.41 20z\"/>\n",
              "  </svg>\n",
              "      </button>\n",
              "      \n",
              "  <style>\n",
              "    .colab-df-container {\n",
              "      display:flex;\n",
              "      flex-wrap:wrap;\n",
              "      gap: 12px;\n",
              "    }\n",
              "\n",
              "    .colab-df-convert {\n",
              "      background-color: #E8F0FE;\n",
              "      border: none;\n",
              "      border-radius: 50%;\n",
              "      cursor: pointer;\n",
              "      display: none;\n",
              "      fill: #1967D2;\n",
              "      height: 32px;\n",
              "      padding: 0 0 0 0;\n",
              "      width: 32px;\n",
              "    }\n",
              "\n",
              "    .colab-df-convert:hover {\n",
              "      background-color: #E2EBFA;\n",
              "      box-shadow: 0px 1px 2px rgba(60, 64, 67, 0.3), 0px 1px 3px 1px rgba(60, 64, 67, 0.15);\n",
              "      fill: #174EA6;\n",
              "    }\n",
              "\n",
              "    [theme=dark] .colab-df-convert {\n",
              "      background-color: #3B4455;\n",
              "      fill: #D2E3FC;\n",
              "    }\n",
              "\n",
              "    [theme=dark] .colab-df-convert:hover {\n",
              "      background-color: #434B5C;\n",
              "      box-shadow: 0px 1px 3px 1px rgba(0, 0, 0, 0.15);\n",
              "      filter: drop-shadow(0px 1px 2px rgba(0, 0, 0, 0.3));\n",
              "      fill: #FFFFFF;\n",
              "    }\n",
              "  </style>\n",
              "\n",
              "      <script>\n",
              "        const buttonEl =\n",
              "          document.querySelector('#df-f6e5b3ff-b5cd-4d81-bf6f-f568ab4c9f8b button.colab-df-convert');\n",
              "        buttonEl.style.display =\n",
              "          google.colab.kernel.accessAllowed ? 'block' : 'none';\n",
              "\n",
              "        async function convertToInteractive(key) {\n",
              "          const element = document.querySelector('#df-f6e5b3ff-b5cd-4d81-bf6f-f568ab4c9f8b');\n",
              "          const dataTable =\n",
              "            await google.colab.kernel.invokeFunction('convertToInteractive',\n",
              "                                                     [key], {});\n",
              "          if (!dataTable) return;\n",
              "\n",
              "          const docLinkHtml = 'Like what you see? Visit the ' +\n",
              "            '<a target=\"_blank\" href=https://colab.research.google.com/notebooks/data_table.ipynb>data table notebook</a>'\n",
              "            + ' to learn more about interactive tables.';\n",
              "          element.innerHTML = '';\n",
              "          dataTable['output_type'] = 'display_data';\n",
              "          await google.colab.output.renderOutput(dataTable, element);\n",
              "          const docLink = document.createElement('div');\n",
              "          docLink.innerHTML = docLinkHtml;\n",
              "          element.appendChild(docLink);\n",
              "        }\n",
              "      </script>\n",
              "    </div>\n",
              "  </div>\n",
              "  "
            ]
          },
          "metadata": {},
          "execution_count": 10
        }
      ]
    },
    {
      "cell_type": "code",
      "source": [
        "eigvalU , eigvecU = np.linalg.eig(U)"
      ],
      "metadata": {
        "id": "SwW_QYpE7b2D"
      },
      "execution_count": null,
      "outputs": []
    },
    {
      "cell_type": "code",
      "source": [
        "eigvecU"
      ],
      "metadata": {
        "colab": {
          "base_uri": "https://localhost:8080/"
        },
        "id": "gQFd4uBQ9ron",
        "outputId": "119b8e33-c842-41ec-ac38-ae4f759885d0"
      },
      "execution_count": null,
      "outputs": [
        {
          "output_type": "execute_result",
          "data": {
            "text/plain": [
              "array([[ 6.1617e-02+0.j, -1.2997e-01+0.j, -5.5836e-05+0.j, ...,\n",
              "        -7.5908e-03+0.j, -1.1369e-01+0.j,  2.9508e-02+0.j],\n",
              "       [ 5.8072e-02+0.j, -1.1137e-01+0.j,  6.8439e-02+0.j, ...,\n",
              "         6.4778e-04+0.j,  9.7021e-03+0.j, -2.5181e-03+0.j],\n",
              "       [ 5.6763e-02+0.j, -1.1829e-01+0.j,  2.3106e-03+0.j, ...,\n",
              "        -2.1678e-03+0.j, -3.2469e-02+0.j,  8.4271e-03+0.j],\n",
              "       ...,\n",
              "       [ 9.4070e-02+0.j,  4.9835e-02+0.j, -4.1496e-02+0.j, ...,\n",
              "         3.8167e-03+0.j,  5.7164e-02+0.j, -1.4837e-02+0.j],\n",
              "       [ 9.4899e-02+0.j,  5.6211e-02+0.j, -2.1239e-01+0.j, ...,\n",
              "        -8.6049e-03+0.j, -1.2888e-01+0.j,  3.3450e-02+0.j],\n",
              "       [ 8.8488e-02+0.j,  5.1621e-02+0.j, -9.5144e-02+0.j, ...,\n",
              "        -5.5410e-04+0.j, -8.2991e-03+0.j,  2.1540e-03+0.j]])"
            ]
          },
          "metadata": {},
          "execution_count": 12
        }
      ]
    },
    {
      "cell_type": "code",
      "source": [
        "eigvalV , eigvecV = np.linalg.eig(V)"
      ],
      "metadata": {
        "id": "p9ktTQ9_7uta"
      },
      "execution_count": null,
      "outputs": []
    },
    {
      "cell_type": "code",
      "source": [
        "sort_indices = np.argsort(eigvalU)[::-1]"
      ],
      "metadata": {
        "id": "dF4wYDrZAxyK"
      },
      "execution_count": null,
      "outputs": []
    },
    {
      "cell_type": "code",
      "source": [
        "num_component=2"
      ],
      "metadata": {
        "id": "99n5vRR8BENw"
      },
      "execution_count": null,
      "outputs": []
    },
    {
      "cell_type": "code",
      "source": [
        "com_indices = sort_indices[:num_component]"
      ],
      "metadata": {
        "id": "mIRFo4sGBA-V"
      },
      "execution_count": null,
      "outputs": []
    },
    {
      "cell_type": "code",
      "source": [
        "com_indices"
      ],
      "metadata": {
        "colab": {
          "base_uri": "https://localhost:8080/"
        },
        "id": "tcPt0rOgBGF9",
        "outputId": "70231414-2c21-43a9-f08e-2f802588bc20"
      },
      "execution_count": null,
      "outputs": [
        {
          "output_type": "execute_result",
          "data": {
            "text/plain": [
              "array([0, 1])"
            ]
          },
          "metadata": {},
          "execution_count": 17
        }
      ]
    },
    {
      "cell_type": "code",
      "source": [
        "S = np.zeros((eigvecU.shape[1],com_indices.shape[0]))"
      ],
      "metadata": {
        "id": "NDC2Z2JVAeAo"
      },
      "execution_count": null,
      "outputs": []
    },
    {
      "cell_type": "code",
      "source": [
        "S.shape"
      ],
      "metadata": {
        "colab": {
          "base_uri": "https://localhost:8080/"
        },
        "id": "eFnagamwAloe",
        "outputId": "124dbb58-9e93-4835-b211-137bf27aef32"
      },
      "execution_count": null,
      "outputs": [
        {
          "output_type": "execute_result",
          "data": {
            "text/plain": [
              "(150, 2)"
            ]
          },
          "metadata": {},
          "execution_count": 19
        }
      ]
    },
    {
      "cell_type": "code",
      "source": [
        "eigvecUs = eigvecU[:,com_indices]"
      ],
      "metadata": {
        "id": "ZbFRQHCLA9vc"
      },
      "execution_count": null,
      "outputs": []
    },
    {
      "cell_type": "code",
      "source": [
        "eigvecVs = eigvecV[:,com_indices]"
      ],
      "metadata": {
        "id": "GZFXs5GXBQ34"
      },
      "execution_count": null,
      "outputs": []
    },
    {
      "cell_type": "code",
      "source": [
        "S[:com_indices.shape[0],:com_indices.shape[0]] = np.diag(eigvalU[com_indices]**0.5)"
      ],
      "metadata": {
        "id": "XEba6Lxk7gJ4"
      },
      "execution_count": null,
      "outputs": []
    },
    {
      "cell_type": "code",
      "source": [
        "construct = eigvecU @ S"
      ],
      "metadata": {
        "id": "VyvkiIxrB2zc"
      },
      "execution_count": null,
      "outputs": []
    },
    {
      "cell_type": "code",
      "source": [
        "import matplotlib.pyplot as plt"
      ],
      "metadata": {
        "id": "PxIZEw_RB5kN"
      },
      "execution_count": null,
      "outputs": []
    },
    {
      "cell_type": "code",
      "source": [
        "construct.shape"
      ],
      "metadata": {
        "colab": {
          "base_uri": "https://localhost:8080/"
        },
        "id": "ij3duAqdCSIE",
        "outputId": "b248a4fc-8de9-4b70-e13a-1298b4f83d80"
      },
      "execution_count": null,
      "outputs": [
        {
          "output_type": "execute_result",
          "data": {
            "text/plain": [
              "(150, 2)"
            ]
          },
          "metadata": {},
          "execution_count": 25
        }
      ]
    },
    {
      "cell_type": "code",
      "source": [
        "Y.shape"
      ],
      "metadata": {
        "colab": {
          "base_uri": "https://localhost:8080/"
        },
        "id": "ro3wXjeJCUft",
        "outputId": "58e7b0b7-06f8-49bc-b645-867390ea9171"
      },
      "execution_count": null,
      "outputs": [
        {
          "output_type": "execute_result",
          "data": {
            "text/plain": [
              "(150,)"
            ]
          },
          "metadata": {},
          "execution_count": 26
        }
      ]
    },
    {
      "cell_type": "code",
      "source": [
        "plt.scatter(construct[:,0],construct[:,1],c=Y)"
      ],
      "metadata": {
        "colab": {
          "base_uri": "https://localhost:8080/",
          "height": 320
        },
        "id": "3sYZ2rLcCFgt",
        "outputId": "c16544c3-1ed3-47ba-8005-b5fbeff4f948"
      },
      "execution_count": null,
      "outputs": [
        {
          "output_type": "stream",
          "name": "stderr",
          "text": [
            "/usr/local/lib/python3.7/dist-packages/matplotlib/collections.py:153: ComplexWarning: Casting complex values to real discards the imaginary part\n",
            "  offsets = np.asanyarray(offsets, float)\n"
          ]
        },
        {
          "output_type": "execute_result",
          "data": {
            "text/plain": [
              "<matplotlib.collections.PathCollection at 0x7f240c465fd0>"
            ]
          },
          "metadata": {},
          "execution_count": 32
        },
        {
          "output_type": "display_data",
          "data": {
            "text/plain": [
              "<Figure size 432x288 with 1 Axes>"
            ],
            "image/png": "[encoded data removed]"
          },
          "metadata": {
            "needs_background": "light"
          }
        }
      ]
    },
    {
      "cell_type": "markdown",
      "source": [
        "OR"
      ],
      "metadata": {
        "id": "uicj9bauCzh-"
      }
    },
    {
      "cell_type": "code",
      "source": [
        "transformleft = X @ np.linalg.inv(eigvecV.T)"
      ],
      "metadata": {
        "id": "PgGobbwwC0Kv"
      },
      "execution_count": null,
      "outputs": []
    },
    {
      "cell_type": "code",
      "source": [
        "transformleft = transformleft.values"
      ],
      "metadata": {
        "id": "og0UFQwkC_5N"
      },
      "execution_count": null,
      "outputs": []
    },
    {
      "cell_type": "code",
      "source": [
        "plt.scatter(transformleft[:,0],transformleft[:,1]*-1,c=Y)"
      ],
      "metadata": {
        "colab": {
          "base_uri": "https://localhost:8080/",
          "height": 284
        },
        "id": "exf-WiWGDPD0",
        "outputId": "666f0403-0790-47fa-e54f-117cdb753612"
      },
      "execution_count": null,
      "outputs": [
        {
          "output_type": "execute_result",
          "data": {
            "text/plain": [
              "<matplotlib.collections.PathCollection at 0x7f240beb5910>"
            ]
          },
          "metadata": {},
          "execution_count": 51
        },
        {
          "output_type": "display_data",
          "data": {
            "text/plain": [
              "<Figure size 432x288 with 1 Axes>"
            ],
            "image/png": "[encoded data removed]"
          },
          "metadata": {
            "needs_background": "light"
          }
        }
      ]
    },
    {
      "cell_type": "code",
      "source": [
        "from sklearn.decomposition import TruncatedSVD"
      ],
      "metadata": {
        "id": "qBARaTEaCZPA"
      },
      "execution_count": null,
      "outputs": []
    },
    {
      "cell_type": "code",
      "source": [
        "svd = TruncatedSVD(n_components=2)"
      ],
      "metadata": {
        "id": "ugT5Kw90Cb5S"
      },
      "execution_count": null,
      "outputs": []
    },
    {
      "cell_type": "code",
      "source": [
        "transformsk = svd.fit_transform(X)"
      ],
      "metadata": {
        "id": "SiMkNDR8CfNg"
      },
      "execution_count": null,
      "outputs": []
    },
    {
      "cell_type": "code",
      "source": [
        "plt.scatter(transformsk[:,0],transformsk[:,1]*-1,c=Y)"
      ],
      "metadata": {
        "colab": {
          "base_uri": "https://localhost:8080/",
          "height": 284
        },
        "id": "ebn67EyoCh1Y",
        "outputId": "c633f6e7-ba9f-487f-8341-4c3655e08232"
      },
      "execution_count": null,
      "outputs": [
        {
          "output_type": "execute_result",
          "data": {
            "text/plain": [
              "<matplotlib.collections.PathCollection at 0x7f240c4e5490>"
            ]
          },
          "metadata": {},
          "execution_count": 31
        },
        {
          "output_type": "display_data",
          "data": {
            "text/plain": [
              "<Figure size 432x288 with 1 Axes>"
            ],
            "image/png": "[encoded data removed]"
          },
          "metadata": {
            "needs_background": "light"
          }
        }
      ]
    }
  ]
}